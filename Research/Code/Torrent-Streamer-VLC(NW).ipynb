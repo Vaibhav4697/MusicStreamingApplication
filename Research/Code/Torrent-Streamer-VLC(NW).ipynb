{
 "cells": [
  {
   "cell_type": "code",
   "execution_count": 1,
   "metadata": {},
   "outputs": [],
   "source": [
    "#!/usr/bin/env python\n",
    "from __future__ import print_function\n",
    "import os\n",
    "import requests\n",
    "from bs4 import BeautifulSoup\n",
    "import argparse\n",
    "\n",
    "# Version Independent\n",
    "import sys"
   ]
  },
  {
   "cell_type": "code",
   "execution_count": 2,
   "metadata": {},
   "outputs": [],
   "source": [
    "if (sys.version_info > (3, 0)):\n",
    "    from urllib.parse import quote_plus as qp\n",
    "    raw_input = input\n",
    "else:\n",
    "    from urllib import quote_plus as qp"
   ]
  },
  {
   "cell_type": "code",
   "execution_count": 3,
   "metadata": {},
   "outputs": [],
   "source": [
    "def open_url(url, hdr={}):\n",
    "    \"\"\"For use in a proxy network\"\"\"\n",
    "\n",
    "    http_proxy  = os.environ.get(\"HTTP_PROXY\")\n",
    "    https_proxy = os.environ.get(\"HTTPS_PROXY\")\n",
    "    ftp_proxy   = os.environ.get(\"FTP_PROXY\")\n",
    "\n",
    "    proxyDict = { \n",
    "        \"http\"  : http_proxy,\n",
    "        \"https\" : https_proxy,\n",
    "        \"ftp\"   : ftp_proxy\n",
    "        }\n",
    "\n",
    "    html = requests.get(url, headers=hdr, proxies=proxyDict)\n",
    "    return html"
   ]
  },
  {
   "cell_type": "code",
   "execution_count": 4,
   "metadata": {},
   "outputs": [],
   "source": [
    "def list_torrents(torrents):\n",
    "    \"\"\" List all the find torrents in a more teadable format\"\"\"\n",
    "\n",
    "    for title, (torrent_link, _) in enumerate(torrents):\n",
    "        yield '[{}] {}'.format(title, torrent_link)"
   ]
  },
  {
   "cell_type": "code",
   "execution_count": 5,
   "metadata": {},
   "outputs": [],
   "source": [
    "def get_torrent_list(search_url):\n",
    "    \"\"\"Fetches a list of top torrents .\"\"\"\n",
    "\n",
    "    torrent_search = open_url(search_url)\n",
    "    soup = BeautifulSoup(torrent_search.text, 'html.parser')\n",
    "    torrent_results = soup.find_all(\"a\", class_=\"cellMainLink\")\n",
    "    return [(x.text.encode('utf-8'), x.get('href')) for x in torrent_results]"
   ]
  },
  {
   "cell_type": "code",
   "execution_count": 7,
   "metadata": {},
   "outputs": [],
   "source": [
    "def get_search_term():\n",
    "    \"\"\"Takes the user input \"\"\"\n",
    "\n",
    "    parser = argparse.ArgumentParser(description='Stream torrents directly ')\n",
    "    group = parser.add_mutually_exclusive_group(required=True)\n",
    "    group.add_argument('-s', action='store', nargs='+', dest='music',  help='Stream the movie.')\n",
    "    group.add_argument('-m', action='store',  nargs='+', dest='movie', help='Play the song .')\n",
    "    group.add_argument('-t', action='store',  nargs='+', dest='tv',  help='Steam the tv show specified.')\n",
    "\n",
    "    search_term = parser.parse_args()\n",
    "\n",
    "    if search_term.music:\n",
    "        search = ' '.join(search_term.music)\n",
    "        return (search + ' category:music')\n",
    "\n",
    "    if search_term.movie:\n",
    "        search = ' '.join(search_term.movie)\n",
    "        return (search + ' category:movie')\n",
    "    \n",
    "    if search_term.tv:\n",
    "        search = ' '.join(search_term.tv)\n",
    "        return (search + ' category:tv')\n",
    "    else:\n",
    "        print (\"Check your input !!\")\n",
    "        exit()"
   ]
  },
  {
   "cell_type": "code",
   "execution_count": 8,
   "metadata": {},
   "outputs": [],
   "source": [
    "def main():\n",
    "    \"\"\" Run the Program \"\"\"\n",
    "\n",
    "    query =qp(get_search_term())\n",
    "\n",
    "    url = 'https://kat.cr/usearch/' + query\n",
    "\n",
    "    try:\n",
    "        print ('Searching....')\n",
    "        torrent_list = get_torrent_list(url)\n",
    "\n",
    "    except Exception as e:\n",
    "        print (e)\n",
    "        exit()\n",
    "\n",
    "    print('Found:', '\\n'.join(list_torrents(torrent_list)))\n",
    "\n",
    "    try:\n",
    "        choice = raw_input('Choose the torrent: ')\n",
    "\n",
    "        while not(choice.isdigit()) or not(0 <= int(choice) < len(torrent_list)):\n",
    "            print(\"Invalid Choice.  Try again!\")\n",
    "            choice = raw_input('Choose the torrent: ')\n",
    "\n",
    "        title, torrent_link = torrent_list[int(choice)]\n",
    "\n",
    "        user_choice = raw_input('Stream \"%s\"? (y/n) ' % title)\n",
    "\n",
    "        if user_choice.upper() != \"Y\" :\n",
    "            sys.exit()\n",
    "\n",
    "    except:\n",
    "        title, torrent_link = torrent_list[0]\n",
    "\n",
    "    print ('Streaming Torrent: ' + title)\n",
    "\n",
    "    final_url = 'https://kat.cr' + torrent_link\n",
    "    torrent_page = open_url(final_url)\n",
    "    soup = BeautifulSoup(torrent_page.text, 'html.parser')\n",
    "    final = 'https:' + soup.find_all('a', class_='siteButton')[0].get('href')\n",
    "\n",
    "    os.system('peerflix ' + final + ' -a --vlc')"
   ]
  },
  {
   "cell_type": "code",
   "execution_count": 14,
   "metadata": {},
   "outputs": [
    {
     "ename": "TypeError",
     "evalue": "main() takes 0 positional arguments but 1 was given",
     "output_type": "error",
     "traceback": [
      "\u001b[1;31m---------------------------------------------------------------------------\u001b[0m",
      "\u001b[1;31mTypeError\u001b[0m                                 Traceback (most recent call last)",
      "\u001b[1;32m<ipython-input-14-6f93d20d295c>\u001b[0m in \u001b[0;36m<module>\u001b[1;34m()\u001b[0m\n\u001b[0;32m      1\u001b[0m \u001b[1;32mif\u001b[0m \u001b[0m__name__\u001b[0m \u001b[1;33m==\u001b[0m \u001b[1;34m'__main__'\u001b[0m\u001b[1;33m:\u001b[0m\u001b[1;33m\u001b[0m\u001b[0m\n\u001b[1;32m----> 2\u001b[1;33m     \u001b[0mmain\u001b[0m\u001b[1;33m(\u001b[0m\u001b[1;34m'-m'\u001b[0m\u001b[1;33m)\u001b[0m\u001b[1;33m\u001b[0m\u001b[0m\n\u001b[0m",
      "\u001b[1;31mTypeError\u001b[0m: main() takes 0 positional arguments but 1 was given"
     ]
    }
   ],
   "source": [
    "if __name__ == '__main__':\n",
    "    main()"
   ]
  },
  {
   "cell_type": "code",
   "execution_count": null,
   "metadata": {},
   "outputs": [],
   "source": []
  }
 ],
 "metadata": {
  "kernelspec": {
   "display_name": "Python 3",
   "language": "python",
   "name": "python3"
  },
  "language_info": {
   "codemirror_mode": {
    "name": "ipython",
    "version": 3
   },
   "file_extension": ".py",
   "mimetype": "text/x-python",
   "name": "python",
   "nbconvert_exporter": "python",
   "pygments_lexer": "ipython3",
   "version": "3.6.5"
  }
 },
 "nbformat": 4,
 "nbformat_minor": 2
}
